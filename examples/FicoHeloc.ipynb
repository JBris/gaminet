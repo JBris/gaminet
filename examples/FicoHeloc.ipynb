{
 "cells": [
  {
   "cell_type": "code",
   "execution_count": null,
   "metadata": {
    "executionInfo": {
     "elapsed": 13684,
     "status": "ok",
     "timestamp": 1603961888588,
     "user": {
      "displayName": "Aijun Zhang",
      "photoUrl": "https://lh3.googleusercontent.com/a-/AOh14GhBWtj1H5SEwpPrXe9cpeI6ygPRrtmqnla1B8Q5cg=s64",
      "userId": "04897292400908543781"
     },
     "user_tz": -480
    },
    "id": "b4v3-n4OAq4b"
   },
   "outputs": [],
   "source": [
    "%matplotlib inline\n",
    "\n",
    "import os\n",
    "import json\n",
    "import numpy as np\n",
    "import pandas as pd\n",
    "import tensorflow as tf\n",
    "from sklearn.metrics import roc_auc_score\n",
    "from sklearn.model_selection import train_test_split\n",
    "from sklearn.preprocessing import OrdinalEncoder, MinMaxScaler\n",
    "\n",
    "from gaminet import GAMINet\n",
    "from gaminet.utils import local_visualize\n",
    "from gaminet.utils import global_visualize_density\n",
    "from gaminet.utils import global_visualize_wo_density\n",
    "from gaminet.utils import feature_importance_visualize\n",
    "from gaminet.utils import plot_regularization\n",
    "from gaminet.utils import plot_trajectory"
   ]
  },
  {
   "cell_type": "code",
   "execution_count": null,
   "metadata": {
    "executionInfo": {
     "elapsed": 13674,
     "status": "ok",
     "timestamp": 1603961888590,
     "user": {
      "displayName": "Aijun Zhang",
      "photoUrl": "https://lh3.googleusercontent.com/a-/AOh14GhBWtj1H5SEwpPrXe9cpeI6ygPRrtmqnla1B8Q5cg=s64",
      "userId": "04897292400908543781"
     },
     "user_tz": -480
    },
    "id": "NxvU955j9HxO"
   },
   "outputs": [],
   "source": [
    "def load_fico(path=\"./\", missing_strategy=\"drop\"):\n",
    "    data = pd.read_csv(path + \"/fico/heloc_dataset_v1.csv\")\n",
    "    meta_info = json.load(open(path + \"/fico/data_types.json\"))\n",
    "    meta_info.pop(\"RiskPerformance\")\n",
    "\n",
    "    ## remove samples with all the values == -9\n",
    "    rem_sample_idx = np.where(np.sum(data.values[:, 1:].astype(float) == -9, 1) == 23)[0]\n",
    "    keep_sample_idx = np.where(np.sum(data.values[:, 1:].astype(float) == -9, 1) < 23)[0]\n",
    "    data_rem9 = data.iloc[keep_sample_idx]\n",
    "\n",
    "    ## dummy for -7, -8, -9\n",
    "    sample_size = data_rem9.shape[0]\n",
    "    dummy_data = pd.DataFrame(index = data_rem9.index)\n",
    "    for i in np.where(np.sum(data_rem9 == -9, 0).values > 0)[0]:\n",
    "        temp = np.zeros(sample_size)\n",
    "        temp[np.where(data_rem9.iloc[:, i].values == -9)[0]] = 1\n",
    "        dummy_data[data_rem9.columns[i] + \"_D-9\"] = temp\n",
    "        meta_info.update({data_rem9.columns[i] + \"_D-9\":{\"type\": \"categorical\"}})\n",
    "\n",
    "    for i in np.where(np.sum(data_rem9 == -8, 0).values > 0)[0]:\n",
    "        temp = np.zeros(sample_size)\n",
    "        temp[np.where(data_rem9.iloc[:, i].values == -8)[0]] = 1\n",
    "        dummy_data[data_rem9.columns[i] + \"_D-8\"] = temp\n",
    "        meta_info.update({data_rem9.columns[i] + \"_D-8\":{\"type\": \"categorical\"}})\n",
    "\n",
    "    for i in np.where(np.sum(data_rem9 == -7, 0).values > 0)[0]:\n",
    "        temp = np.zeros(sample_size)\n",
    "        temp[np.where(data_rem9.iloc[:, i].values == -7)[0]] = 1\n",
    "        dummy_data[data_rem9.columns[i] + \"_D-7\"] = temp\n",
    "        meta_info.update({data_rem9.columns[i] + \"_D-7\":{\"type\": \"categorical\"}})\n",
    "\n",
    "    meta_info.update({\"RiskPerformance\":{\"type\": \"target\"}})\n",
    "    final_data = pd.concat([data_rem9.replace(-9, 0).replace(-8, 0).replace(-7, 0), dummy_data], 1)\n",
    "    x, y = final_data.iloc[:,1:].values, final_data.iloc[:,[0]].values\n",
    "    return x, y, \"Classification\", meta_info\n",
    "\n",
    "def load_classification_data(name):\n",
    "    data_path = '.'\n",
    "    func_dict = {'fico':load_fico}\n",
    "    def wrapper(random_state):\n",
    "        function_name_ = func_dict[name]\n",
    "        x, y, task_type, meta_info = function_name_(data_path, missing_strategy=\"impute\")\n",
    "        xx = np.zeros((x.shape[0], x.shape[1]), dtype=np.float32)\n",
    "        for i, (key, item) in enumerate(meta_info.items()):\n",
    "            if item['type'] == 'target':\n",
    "                enc = OrdinalEncoder()\n",
    "                enc.fit(y)\n",
    "                y = enc.transform(y)\n",
    "                meta_info[key]['values'] = enc.categories_[0].tolist()\n",
    "            elif item['type'] == 'categorical':\n",
    "                enc = OrdinalEncoder()\n",
    "                xx[:,[i]] = enc.fit_transform(x[:,[i]])\n",
    "                meta_info[key]['values'] = []\n",
    "                for item in enc.categories_[0].tolist():\n",
    "                    try:\n",
    "                        if item == int(item):\n",
    "                            meta_info[key]['values'].append(str(int(item)))\n",
    "                        else:\n",
    "                            meta_info[key]['values'].append(str(item))\n",
    "                    except ValueError:\n",
    "                        meta_info[key]['values'].append(str(item))\n",
    "            else:\n",
    "                sx = MinMaxScaler((0, 1))\n",
    "                xx[:,[i]] = sx.fit_transform(x[:,[i]])\n",
    "                meta_info[key]['scaler'] = sx\n",
    "        train_x, test_x, train_y, test_y = train_test_split(xx.astype(np.float32), y, stratify=y,\n",
    "                                                            test_size=0.2, random_state=random_state)\n",
    "        return train_x, test_x, train_y, test_y, task_type, meta_info\n",
    "    return wrapper"
   ]
  },
  {
   "cell_type": "code",
   "execution_count": null,
   "metadata": {},
   "outputs": [],
   "source": [
    "def metric_wrapper(metric, scaler):\n",
    "    def wrapper(label, pred):\n",
    "        return metric(label, pred, scaler=scaler)\n",
    "    return wrapper\n",
    "\n",
    "def auc(label, pred, scaler=None):\n",
    "    return roc_auc_score(label, pred)\n",
    "\n",
    "get_metric = metric_wrapper(auc, None)"
   ]
  },
  {
   "cell_type": "code",
   "execution_count": null,
   "metadata": {
    "executionInfo": {
     "elapsed": 13662,
     "status": "ok",
     "timestamp": 1603961888591,
     "user": {
      "displayName": "Aijun Zhang",
      "photoUrl": "https://lh3.googleusercontent.com/a-/AOh14GhBWtj1H5SEwpPrXe9cpeI6ygPRrtmqnla1B8Q5cg=s64",
      "userId": "04897292400908543781"
     },
     "user_tz": -480
    },
    "id": "gGPEeEbL9HxR"
   },
   "outputs": [],
   "source": [
    "random_state = 0\n",
    "data_loader = load_classification_data(\"fico\")\n",
    "train_x, test_x, train_y, test_y, task_type, meta_info = data_loader(random_state)"
   ]
  },
  {
   "cell_type": "code",
   "execution_count": null,
   "metadata": {},
   "outputs": [],
   "source": [
    "meta_info.keys()"
   ]
  },
  {
   "cell_type": "code",
   "execution_count": null,
   "metadata": {
    "scrolled": true
   },
   "outputs": [],
   "source": [
    "folder = \"./results/\"\n",
    "if not os.path.exists(folder):\n",
    "    os.makedirs(folder)\n",
    "\n",
    "\n",
    "model_fico = GAMINet(meta_info={\"X\" + str(i + 1):item for i, item in enumerate(meta_info.values())}, interact_num=20,\n",
    "            interact_arch=[40] * 5, subnet_arch=[40] * 5, \n",
    "            batch_size=200, task_type=task_type, activation_func=tf.nn.relu, \n",
    "            main_effect_epochs=5000, interaction_epochs=5000, tuning_epochs=500, \n",
    "            lr_bp=[0.001, 0.001, 0.0001], early_stop_thres=[50, 50, 50],\n",
    "            heredity=True, loss_threshold=0.01, reg_clarity=0.1,\n",
    "            mono_increasing_list=[0, 1, 2, 3, 4, 7, 8, 9, 10, 14],\n",
    "            mono_decreasing_list=[5, 6, 12, 15, 16, 17, 18, 21],\n",
    "            verbose=True, val_ratio=0.2, random_state=0)\n",
    "model_fico.fit(train_x, train_y)\n",
    "data_dict_logs = model_fico.summary_logs(save_dict=False)\n",
    "plot_trajectory(data_dict_logs, folder=folder, name=\"fico_traj\", save_png=True, save_eps=True)\n",
    "plot_regularization(data_dict_logs, folder=folder, name=\"fico_regu\", save_png=True, save_eps=True)"
   ]
  },
  {
   "cell_type": "code",
   "execution_count": null,
   "metadata": {},
   "outputs": [],
   "source": [
    "pred_train = model_fico.predict(train_x)\n",
    "pred_test = model_fico.predict(test_x)\n",
    "gaminet_stat = np.hstack([np.round(get_metric(train_y, pred_train),5),\n",
    "                      np.round(get_metric(test_y, pred_test),5)])\n",
    "print(gaminet_stat)"
   ]
  },
  {
   "cell_type": "code",
   "execution_count": null,
   "metadata": {},
   "outputs": [],
   "source": [
    "gaminet_stat = np.hstack([np.round(np.mean(train_y == (pred_train > 0.5)),5),\n",
    "                          np.round(np.mean(test_y == (pred_test > 0.5)),5)])\n",
    "print(gaminet_stat)"
   ]
  },
  {
   "cell_type": "markdown",
   "metadata": {},
   "source": [
    "Global Interpretation"
   ]
  },
  {
   "cell_type": "code",
   "execution_count": null,
   "metadata": {},
   "outputs": [],
   "source": [
    "data_dict_global = model_fico.global_explain(save_dict=True, folder=folder, name=\"fico_global\")\n",
    "global_visualize_density(data_dict_global, folder=folder, name=\"fico_global\",  #11, 13, 19, 20\n",
    "                         main_effect_num=16, interaction_num=4, cols_per_row=4, save_png=True, save_eps=True)"
   ]
  },
  {
   "cell_type": "markdown",
   "metadata": {},
   "source": [
    "Feature Importance"
   ]
  },
  {
   "cell_type": "code",
   "execution_count": null,
   "metadata": {},
   "outputs": [],
   "source": [
    "feature_importance_visualize(data_dict_global)"
   ]
  },
  {
   "cell_type": "markdown",
   "metadata": {},
   "source": [
    "Interpret the prediction of a test sample"
   ]
  },
  {
   "cell_type": "code",
   "execution_count": null,
   "metadata": {},
   "outputs": [],
   "source": [
    "data_dict_local = model_fico.local_explain(test_x[[0]], test_y[[0]], save_dict=False)\n",
    "local_visualize(data_dict_local[0], save_png=False)"
   ]
  },
  {
   "cell_type": "code",
   "execution_count": null,
   "metadata": {},
   "outputs": [],
   "source": []
  }
 ],
 "metadata": {
  "colab": {
   "collapsed_sections": [],
   "name": "FicoHeloc.ipynb",
   "provenance": [
    {
     "file_id": "1kxmAukKbw2t6BLF4ZZ6RH2uZmGY170MK",
     "timestamp": 1598498903467
    }
   ]
  },
  "kernelspec": {
   "display_name": "py37",
   "language": "python",
   "name": "py37"
  },
  "language_info": {
   "codemirror_mode": {
    "name": "ipython",
    "version": 3
   },
   "file_extension": ".py",
   "mimetype": "text/x-python",
   "name": "python",
   "nbconvert_exporter": "python",
   "pygments_lexer": "ipython3",
   "version": "3.7.7"
  },
  "latex_envs": {
   "LaTeX_envs_menu_present": true,
   "autoclose": false,
   "autocomplete": true,
   "bibliofile": "biblio.bib",
   "cite_by": "apalike",
   "current_citInitial": 1,
   "eqLabelWithNumbers": true,
   "eqNumInitial": 1,
   "hotkeys": {
    "equation": "Ctrl-E",
    "itemize": "Ctrl-I"
   },
   "labels_anchors": false,
   "latex_user_defs": false,
   "report_style_numbering": false,
   "user_envs_cfg": false
  },
  "varInspector": {
   "cols": {
    "lenName": 16,
    "lenType": 16,
    "lenVar": 40
   },
   "kernels_config": {
    "python": {
     "delete_cmd_postfix": "",
     "delete_cmd_prefix": "del ",
     "library": "var_list.py",
     "varRefreshCmd": "print(var_dic_list())"
    },
    "r": {
     "delete_cmd_postfix": ") ",
     "delete_cmd_prefix": "rm(",
     "library": "var_list.r",
     "varRefreshCmd": "cat(var_dic_list()) "
    }
   },
   "types_to_exclude": [
    "module",
    "function",
    "builtin_function_or_method",
    "instance",
    "_Feature"
   ],
   "window_display": false
  }
 },
 "nbformat": 4,
 "nbformat_minor": 1
}
