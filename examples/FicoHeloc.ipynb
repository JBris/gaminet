{
 "cells": [
  {
   "cell_type": "code",
   "execution_count": 1,
   "metadata": {
    "ExecuteTime": {
     "end_time": "2021-10-14T10:51:42.261659Z",
     "start_time": "2021-10-14T10:51:39.612790Z"
    },
    "executionInfo": {
     "elapsed": 13684,
     "status": "ok",
     "timestamp": 1603961888588,
     "user": {
      "displayName": "Aijun Zhang",
      "photoUrl": "https://lh3.googleusercontent.com/a-/AOh14GhBWtj1H5SEwpPrXe9cpeI6ygPRrtmqnla1B8Q5cg=s64",
      "userId": "04897292400908543781"
     },
     "user_tz": -480
    },
    "id": "b4v3-n4OAq4b"
   },
   "outputs": [],
   "source": [
    "%matplotlib inline\n",
    "\n",
    "import os\n",
    "import json\n",
    "import numpy as np\n",
    "import pandas as pd\n",
    "import tensorflow as tf\n",
    "from sklearn.metrics import roc_auc_score\n",
    "from sklearn.model_selection import train_test_split\n",
    "from sklearn.preprocessing import OrdinalEncoder, MinMaxScaler\n",
    "\n",
    "from gaminet import GAMINet\n",
    "from gaminet.utils import local_visualize\n",
    "from gaminet.utils import global_visualize_density\n",
    "from gaminet.utils import global_visualize_wo_density\n",
    "from gaminet.utils import feature_importance_visualize\n",
    "from gaminet.utils import plot_regularization\n",
    "from gaminet.utils import plot_trajectory"
   ]
  },
  {
   "cell_type": "code",
   "execution_count": 2,
   "metadata": {
    "ExecuteTime": {
     "end_time": "2021-10-14T10:51:42.278302Z",
     "start_time": "2021-10-14T10:51:42.264158Z"
    },
    "executionInfo": {
     "elapsed": 13674,
     "status": "ok",
     "timestamp": 1603961888590,
     "user": {
      "displayName": "Aijun Zhang",
      "photoUrl": "https://lh3.googleusercontent.com/a-/AOh14GhBWtj1H5SEwpPrXe9cpeI6ygPRrtmqnla1B8Q5cg=s64",
      "userId": "04897292400908543781"
     },
     "user_tz": -480
    },
    "id": "NxvU955j9HxO"
   },
   "outputs": [],
   "source": [
    "def load_fico(path=\"./\", missing_strategy=\"drop\"):\n",
    "    data = pd.read_csv(path + \"/fico/heloc_dataset_v1.csv\")\n",
    "    meta_info = json.load(open(path + \"/fico/data_types.json\"))\n",
    "    meta_info.pop(\"RiskPerformance\")\n",
    "\n",
    "    ## remove samples with all the values == -9\n",
    "    rem_sample_idx = np.where(np.sum(data.values[:, 1:].astype(float) == -9, 1) == 23)[0]\n",
    "    keep_sample_idx = np.where(np.sum(data.values[:, 1:].astype(float) == -9, 1) < 23)[0]\n",
    "    data_rem9 = data.iloc[keep_sample_idx]\n",
    "\n",
    "    ## dummy for -7, -8, -9\n",
    "    sample_size = data_rem9.shape[0]\n",
    "    dummy_data = pd.DataFrame(index = data_rem9.index)\n",
    "    for i in np.where(np.sum(data_rem9 == -9, 0).values > 0)[0]:\n",
    "        temp = np.zeros(sample_size)\n",
    "        temp[np.where(data_rem9.iloc[:, i].values == -9)[0]] = 1\n",
    "        dummy_data[data_rem9.columns[i] + \"_D-9\"] = temp\n",
    "        meta_info.update({data_rem9.columns[i] + \"_D-9\":{\"type\": \"categorical\"}})\n",
    "\n",
    "    for i in np.where(np.sum(data_rem9 == -8, 0).values > 0)[0]:\n",
    "        temp = np.zeros(sample_size)\n",
    "        temp[np.where(data_rem9.iloc[:, i].values == -8)[0]] = 1\n",
    "        dummy_data[data_rem9.columns[i] + \"_D-8\"] = temp\n",
    "        meta_info.update({data_rem9.columns[i] + \"_D-8\":{\"type\": \"categorical\"}})\n",
    "\n",
    "    for i in np.where(np.sum(data_rem9 == -7, 0).values > 0)[0]:\n",
    "        temp = np.zeros(sample_size)\n",
    "        temp[np.where(data_rem9.iloc[:, i].values == -7)[0]] = 1\n",
    "        dummy_data[data_rem9.columns[i] + \"_D-7\"] = temp\n",
    "        meta_info.update({data_rem9.columns[i] + \"_D-7\":{\"type\": \"categorical\"}})\n",
    "\n",
    "    meta_info.update({\"RiskPerformance\":{\"type\": \"target\"}})\n",
    "    final_data = pd.concat([data_rem9.replace(-9, 0).replace(-8, 0).replace(-7, 0), dummy_data], 1)\n",
    "    x, y = final_data.iloc[:,1:].values, final_data.iloc[:,[0]].values\n",
    "    return x, y, \"Classification\", meta_info\n",
    "\n",
    "def load_classification_data(name):\n",
    "    data_path = '.'\n",
    "    func_dict = {'fico':load_fico}\n",
    "    def wrapper(random_state):\n",
    "        function_name_ = func_dict[name]\n",
    "        x, y, task_type, meta_info = function_name_(data_path, missing_strategy=\"impute\")\n",
    "        xx = np.zeros((x.shape[0], x.shape[1]), dtype=np.float32)\n",
    "        for i, (key, item) in enumerate(meta_info.items()):\n",
    "            if item['type'] == 'target':\n",
    "                enc = OrdinalEncoder()\n",
    "                enc.fit(y)\n",
    "                y = enc.transform(y)\n",
    "                meta_info[key]['values'] = enc.categories_[0].tolist()\n",
    "            elif item['type'] == 'categorical':\n",
    "                enc = OrdinalEncoder()\n",
    "                xx[:,[i]] = enc.fit_transform(x[:,[i]])\n",
    "                meta_info[key]['values'] = []\n",
    "                for item in enc.categories_[0].tolist():\n",
    "                    try:\n",
    "                        if item == int(item):\n",
    "                            meta_info[key]['values'].append(str(int(item)))\n",
    "                        else:\n",
    "                            meta_info[key]['values'].append(str(item))\n",
    "                    except ValueError:\n",
    "                        meta_info[key]['values'].append(str(item))\n",
    "            else:\n",
    "                sx = MinMaxScaler((0, 1))\n",
    "                xx[:,[i]] = sx.fit_transform(x[:,[i]])\n",
    "                meta_info[key]['scaler'] = sx\n",
    "        train_x, test_x, train_y, test_y = train_test_split(xx.astype(np.float32), y, stratify=y,\n",
    "                                                            test_size=0.2, random_state=random_state)\n",
    "        return train_x, test_x, train_y, test_y, task_type, meta_info\n",
    "    return wrapper"
   ]
  },
  {
   "cell_type": "code",
   "execution_count": 3,
   "metadata": {
    "ExecuteTime": {
     "end_time": "2021-10-14T10:51:42.283661Z",
     "start_time": "2021-10-14T10:51:42.280302Z"
    }
   },
   "outputs": [],
   "source": [
    "def metric_wrapper(metric, scaler):\n",
    "    def wrapper(label, pred):\n",
    "        return metric(label, pred, scaler=scaler)\n",
    "    return wrapper\n",
    "\n",
    "def auc(label, pred, scaler=None):\n",
    "    return roc_auc_score(label, pred)\n",
    "\n",
    "get_metric = metric_wrapper(auc, None)"
   ]
  },
  {
   "cell_type": "code",
   "execution_count": 4,
   "metadata": {
    "ExecuteTime": {
     "end_time": "2021-10-14T10:51:42.393296Z",
     "start_time": "2021-10-14T10:51:42.285241Z"
    },
    "executionInfo": {
     "elapsed": 13662,
     "status": "ok",
     "timestamp": 1603961888591,
     "user": {
      "displayName": "Aijun Zhang",
      "photoUrl": "https://lh3.googleusercontent.com/a-/AOh14GhBWtj1H5SEwpPrXe9cpeI6ygPRrtmqnla1B8Q5cg=s64",
      "userId": "04897292400908543781"
     },
     "user_tz": -480
    },
    "id": "gGPEeEbL9HxR"
   },
   "outputs": [
    {
     "name": "stderr",
     "output_type": "stream",
     "text": [
      "/home/r7user1/anaconda2_local/envs/py37/lib/python3.7/site-packages/ipykernel_launcher.py:33: FutureWarning: In a future version of pandas all arguments of concat except for the argument 'objs' will be keyword-only\n"
     ]
    }
   ],
   "source": [
    "random_state = 0\n",
    "data_loader = load_classification_data(\"fico\")\n",
    "train_x, test_x, train_y, test_y, task_type, meta_info = data_loader(random_state)"
   ]
  },
  {
   "cell_type": "code",
   "execution_count": 5,
   "metadata": {
    "ExecuteTime": {
     "end_time": "2021-10-14T10:51:42.400989Z",
     "start_time": "2021-10-14T10:51:42.395157Z"
    }
   },
   "outputs": [
    {
     "data": {
      "text/plain": [
       "dict_keys(['ExternalRiskEstimate', 'MSinceOldestTradeOpen', 'MSinceMostRecentTradeOpen', 'AverageMInFile', 'NumSatisfactoryTrades', 'NumTrades60Ever2DerogPubRec', 'NumTrades90Ever2DerogPubRec', 'PercentTradesNeverDelq', 'MSinceMostRecentDelq', 'MaxDelq2PublicRecLast12M', 'MaxDelqEver', 'NumTotalTrades', 'NumTradesOpeninLast12M', 'PercentInstallTrades', 'MSinceMostRecentInqexcl7days', 'NumInqLast6M', 'NumInqLast6Mexcl7days', 'NetFractionRevolvingBurden', 'NetFractionInstallBurden', 'NumRevolvingTradesWBalance', 'NumInstallTradesWBalance', 'NumBank2NatlTradesWHighUtilization', 'PercentTradesWBalance', 'ExternalRiskEstimate_D-9', 'MSinceOldestTradeOpen_D-8', 'MSinceMostRecentDelq_D-8', 'MSinceMostRecentInqexcl7days_D-8', 'NetFractionRevolvingBurden_D-8', 'NetFractionInstallBurden_D-8', 'NumRevolvingTradesWBalance_D-8', 'NumInstallTradesWBalance_D-8', 'NumBank2NatlTradesWHighUtilization_D-8', 'PercentTradesWBalance_D-8', 'MSinceMostRecentDelq_D-7', 'MSinceMostRecentInqexcl7days_D-7', 'RiskPerformance'])"
      ]
     },
     "execution_count": 5,
     "metadata": {},
     "output_type": "execute_result"
    }
   ],
   "source": [
    "meta_info.keys()"
   ]
  },
  {
   "cell_type": "code",
   "execution_count": 6,
   "metadata": {
    "ExecuteTime": {
     "end_time": "2021-10-14T10:51:42.913412Z",
     "start_time": "2021-10-14T10:51:42.402482Z"
    },
    "scrolled": true
   },
   "outputs": [
    {
     "ename": "AttributeError",
     "evalue": "'MonoConNumerNet' object has no attribute 'monotonicity'",
     "output_type": "error",
     "traceback": [
      "\u001b[0;31m---------------------------------------------------------------------------\u001b[0m",
      "\u001b[0;31mAttributeError\u001b[0m                            Traceback (most recent call last)",
      "\u001b[0;32m<ipython-input-6-8a19e51f6297>\u001b[0m in \u001b[0;36m<module>\u001b[0;34m\u001b[0m\n\u001b[1;32m     12\u001b[0m             \u001b[0mmono_increasing_list\u001b[0m\u001b[0;34m=\u001b[0m\u001b[0;34m[\u001b[0m\u001b[0;36m0\u001b[0m\u001b[0;34m,\u001b[0m \u001b[0;36m1\u001b[0m\u001b[0;34m,\u001b[0m \u001b[0;36m2\u001b[0m\u001b[0;34m,\u001b[0m \u001b[0;36m3\u001b[0m\u001b[0;34m,\u001b[0m \u001b[0;36m4\u001b[0m\u001b[0;34m,\u001b[0m \u001b[0;36m7\u001b[0m\u001b[0;34m,\u001b[0m \u001b[0;36m8\u001b[0m\u001b[0;34m,\u001b[0m \u001b[0;36m9\u001b[0m\u001b[0;34m,\u001b[0m \u001b[0;36m10\u001b[0m\u001b[0;34m,\u001b[0m \u001b[0;36m14\u001b[0m\u001b[0;34m]\u001b[0m\u001b[0;34m,\u001b[0m\u001b[0;34m\u001b[0m\u001b[0;34m\u001b[0m\u001b[0m\n\u001b[1;32m     13\u001b[0m             \u001b[0mmono_decreasing_list\u001b[0m\u001b[0;34m=\u001b[0m\u001b[0;34m[\u001b[0m\u001b[0;36m5\u001b[0m\u001b[0;34m,\u001b[0m \u001b[0;36m6\u001b[0m\u001b[0;34m,\u001b[0m \u001b[0;36m12\u001b[0m\u001b[0;34m,\u001b[0m \u001b[0;36m15\u001b[0m\u001b[0;34m,\u001b[0m \u001b[0;36m16\u001b[0m\u001b[0;34m,\u001b[0m \u001b[0;36m17\u001b[0m\u001b[0;34m,\u001b[0m \u001b[0;36m18\u001b[0m\u001b[0;34m,\u001b[0m \u001b[0;36m21\u001b[0m\u001b[0;34m]\u001b[0m\u001b[0;34m,\u001b[0m\u001b[0;34m\u001b[0m\u001b[0;34m\u001b[0m\u001b[0m\n\u001b[0;32m---> 14\u001b[0;31m             verbose=True, val_ratio=0.2, random_state=0)\n\u001b[0m\u001b[1;32m     15\u001b[0m \u001b[0mmodel_fico\u001b[0m\u001b[0;34m.\u001b[0m\u001b[0mfit\u001b[0m\u001b[0;34m(\u001b[0m\u001b[0mtrain_x\u001b[0m\u001b[0;34m,\u001b[0m \u001b[0mtrain_y\u001b[0m\u001b[0;34m)\u001b[0m\u001b[0;34m\u001b[0m\u001b[0;34m\u001b[0m\u001b[0m\n\u001b[1;32m     16\u001b[0m \u001b[0mdata_dict_logs\u001b[0m \u001b[0;34m=\u001b[0m \u001b[0mmodel_fico\u001b[0m\u001b[0;34m.\u001b[0m\u001b[0msummary_logs\u001b[0m\u001b[0;34m(\u001b[0m\u001b[0msave_dict\u001b[0m\u001b[0;34m=\u001b[0m\u001b[0;32mFalse\u001b[0m\u001b[0;34m)\u001b[0m\u001b[0;34m\u001b[0m\u001b[0;34m\u001b[0m\u001b[0m\n",
      "\u001b[0;32m~/anaconda2_local/envs/py37/lib/python3.7/site-packages/gaminet/gaminet.py\u001b[0m in \u001b[0;36m__init__\u001b[0;34m(self, meta_info, interact_num, subnet_arch, interact_arch, lr_bp, batch_size, task_type, activation_func, main_effect_epochs, interaction_epochs, tuning_epochs, early_stop_thres, heredity, reg_clarity, loss_threshold, val_ratio, mono_increasing_list, mono_decreasing_list, convex_list, concave_list, lattice_size, verbose, random_state)\u001b[0m\n\u001b[1;32m    116\u001b[0m                                  \u001b[0mmono_list\u001b[0m\u001b[0;34m=\u001b[0m\u001b[0mself\u001b[0m\u001b[0;34m.\u001b[0m\u001b[0mmono_list\u001b[0m\u001b[0;34m,\u001b[0m\u001b[0;34m\u001b[0m\u001b[0;34m\u001b[0m\u001b[0m\n\u001b[1;32m    117\u001b[0m                                  \u001b[0mcon_list\u001b[0m\u001b[0;34m=\u001b[0m\u001b[0mself\u001b[0m\u001b[0;34m.\u001b[0m\u001b[0mcon_list\u001b[0m\u001b[0;34m,\u001b[0m\u001b[0;34m\u001b[0m\u001b[0;34m\u001b[0m\u001b[0m\n\u001b[0;32m--> 118\u001b[0;31m                                  lattice_size=self.lattice_size)\n\u001b[0m\u001b[1;32m    119\u001b[0m         self.interact_blocks = InteractionBlock(interact_num=self.interact_num,\n\u001b[1;32m    120\u001b[0m                                 \u001b[0mfeature_list\u001b[0m\u001b[0;34m=\u001b[0m\u001b[0mself\u001b[0m\u001b[0;34m.\u001b[0m\u001b[0mfeature_list_\u001b[0m\u001b[0;34m,\u001b[0m\u001b[0;34m\u001b[0m\u001b[0;34m\u001b[0m\u001b[0m\n",
      "\u001b[0;32m~/anaconda2_local/envs/py37/lib/python3.7/site-packages/gaminet/layers.py\u001b[0m in \u001b[0;36m__init__\u001b[0;34m(self, feature_list, nfeature_index_list, cfeature_index_list, dummy_values, subnet_arch, activation_func, mono_list, con_list, lattice_size)\u001b[0m\n\u001b[1;32m    174\u001b[0m             \u001b[0;32mif\u001b[0m \u001b[0mi\u001b[0m \u001b[0;32min\u001b[0m \u001b[0mself\u001b[0m\u001b[0;34m.\u001b[0m\u001b[0mnfeature_index_list\u001b[0m\u001b[0;34m:\u001b[0m\u001b[0;34m\u001b[0m\u001b[0;34m\u001b[0m\u001b[0m\n\u001b[1;32m    175\u001b[0m                 \u001b[0;32mif\u001b[0m \u001b[0mi\u001b[0m \u001b[0;32min\u001b[0m \u001b[0mself\u001b[0m\u001b[0;34m.\u001b[0m\u001b[0mmono_list\u001b[0m\u001b[0;34m:\u001b[0m\u001b[0;34m\u001b[0m\u001b[0;34m\u001b[0m\u001b[0m\n\u001b[0;32m--> 176\u001b[0;31m                     \u001b[0mself\u001b[0m\u001b[0;34m.\u001b[0m\u001b[0msubnets\u001b[0m\u001b[0;34m.\u001b[0m\u001b[0mappend\u001b[0m\u001b[0;34m(\u001b[0m\u001b[0mMonoConNumerNet\u001b[0m\u001b[0;34m(\u001b[0m\u001b[0;34m\"monotonicity\"\u001b[0m\u001b[0;34m,\u001b[0m \u001b[0mself\u001b[0m\u001b[0;34m.\u001b[0m\u001b[0mlattice_size\u001b[0m\u001b[0;34m,\u001b[0m \u001b[0msubnet_id\u001b[0m\u001b[0;34m=\u001b[0m\u001b[0mi\u001b[0m\u001b[0;34m)\u001b[0m\u001b[0;34m)\u001b[0m\u001b[0;34m\u001b[0m\u001b[0;34m\u001b[0m\u001b[0m\n\u001b[0m\u001b[1;32m    177\u001b[0m                 \u001b[0;32melif\u001b[0m \u001b[0mi\u001b[0m \u001b[0;32min\u001b[0m \u001b[0mself\u001b[0m\u001b[0;34m.\u001b[0m\u001b[0mcon_list\u001b[0m\u001b[0;34m:\u001b[0m\u001b[0;34m\u001b[0m\u001b[0;34m\u001b[0m\u001b[0m\n\u001b[1;32m    178\u001b[0m                     \u001b[0mself\u001b[0m\u001b[0;34m.\u001b[0m\u001b[0msubnets\u001b[0m\u001b[0;34m.\u001b[0m\u001b[0mappend\u001b[0m\u001b[0;34m(\u001b[0m\u001b[0mMonoConNumerNet\u001b[0m\u001b[0;34m(\u001b[0m\u001b[0;34m\"convexity\"\u001b[0m\u001b[0;34m,\u001b[0m \u001b[0mself\u001b[0m\u001b[0;34m.\u001b[0m\u001b[0mlattice_size\u001b[0m\u001b[0;34m,\u001b[0m \u001b[0msubnet_id\u001b[0m\u001b[0;34m=\u001b[0m\u001b[0mi\u001b[0m\u001b[0;34m)\u001b[0m\u001b[0;34m)\u001b[0m\u001b[0;34m\u001b[0m\u001b[0;34m\u001b[0m\u001b[0m\n",
      "\u001b[0;32m~/anaconda2_local/envs/py37/lib/python3.7/site-packages/gaminet/layers.py\u001b[0m in \u001b[0;36m__init__\u001b[0;34m(self, constraint, lattice_size, subnet_id)\u001b[0m\n\u001b[1;32m    110\u001b[0m         self.lattice_layer_input = tfl.layers.PWLCalibration(input_keypoints=np.linspace(0, 1, num=8, dtype=np.float32),\n\u001b[1;32m    111\u001b[0m                                         output_min=0.0, output_max=self.lattice_size - 1.0)\n\u001b[0;32m--> 112\u001b[0;31m         \u001b[0;32mif\u001b[0m \u001b[0mself\u001b[0m\u001b[0;34m.\u001b[0m\u001b[0mmonotonicity\u001b[0m\u001b[0;34m[\u001b[0m\u001b[0;36m0\u001b[0m\u001b[0;34m]\u001b[0m \u001b[0;34m==\u001b[0m \u001b[0;32mTrue\u001b[0m\u001b[0;34m:\u001b[0m\u001b[0;34m\u001b[0m\u001b[0;34m\u001b[0m\u001b[0m\n\u001b[0m\u001b[1;32m    113\u001b[0m             \u001b[0mself\u001b[0m\u001b[0;34m.\u001b[0m\u001b[0mlattice_layer_input\u001b[0m\u001b[0;34m.\u001b[0m\u001b[0mmonotonicity\u001b[0m \u001b[0;34m=\u001b[0m \u001b[0;34m'increasing'\u001b[0m\u001b[0;34m\u001b[0m\u001b[0;34m\u001b[0m\u001b[0m\n\u001b[1;32m    114\u001b[0m         \u001b[0;32mif\u001b[0m \u001b[0mself\u001b[0m\u001b[0;34m.\u001b[0m\u001b[0mconvexity\u001b[0m\u001b[0;34m[\u001b[0m\u001b[0;36m0\u001b[0m\u001b[0;34m]\u001b[0m \u001b[0;34m==\u001b[0m \u001b[0;32mTrue\u001b[0m\u001b[0;34m:\u001b[0m\u001b[0;34m\u001b[0m\u001b[0;34m\u001b[0m\u001b[0m\n",
      "\u001b[0;31mAttributeError\u001b[0m: 'MonoConNumerNet' object has no attribute 'monotonicity'"
     ]
    }
   ],
   "source": [
    "folder = \"./results/\"\n",
    "if not os.path.exists(folder):\n",
    "    os.makedirs(folder)\n",
    "\n",
    "\n",
    "model_fico = GAMINet(meta_info={\"X\" + str(i + 1):item for i, item in enumerate(meta_info.values())}, interact_num=20,\n",
    "            interact_arch=[40] * 5, subnet_arch=[40] * 5, \n",
    "            batch_size=200, task_type=task_type, activation_func=tf.nn.relu, \n",
    "            main_effect_epochs=5000, interaction_epochs=5000, tuning_epochs=500, \n",
    "            lr_bp=[0.001, 0.001, 0.0001], early_stop_thres=[50, 50, 50],\n",
    "            heredity=True, loss_threshold=0.01, reg_clarity=0.1,\n",
    "            mono_increasing_list=[0, 1, 2, 3, 4, 7, 8, 9, 10, 14],\n",
    "            mono_decreasing_list=[5, 6, 12, 15, 16, 17, 18, 21],\n",
    "            verbose=True, val_ratio=0.2, random_state=0)\n",
    "model_fico.fit(train_x, train_y)\n",
    "data_dict_logs = model_fico.summary_logs(save_dict=False)\n",
    "plot_trajectory(data_dict_logs, folder=folder, name=\"fico_traj\", save_png=True, save_eps=True)\n",
    "plot_regularization(data_dict_logs, folder=folder, name=\"fico_regu\", save_png=True, save_eps=True)"
   ]
  },
  {
   "cell_type": "code",
   "execution_count": 10,
   "metadata": {
    "ExecuteTime": {
     "end_time": "2021-10-14T10:52:27.484825Z",
     "start_time": "2021-10-14T10:52:27.475327Z"
    }
   },
   "outputs": [],
   "source": [
    "import tensorflow_lattice as tfl\n",
    "lattice_layer_input = tfl.layers.PWLCalibration(input_keypoints=np.linspace(0, 1, num=8, dtype=np.float32),\n",
    "                                             output_min=0.0, output_max=2 - 1.0)\n",
    "lattice_layer_input.monotonicity = 'increasing'"
   ]
  },
  {
   "cell_type": "code",
   "execution_count": null,
   "metadata": {
    "ExecuteTime": {
     "end_time": "2021-10-14T10:51:42.920605Z",
     "start_time": "2021-10-14T10:51:39.420Z"
    }
   },
   "outputs": [],
   "source": [
    "pred_train = model_fico.predict(train_x)\n",
    "pred_test = model_fico.predict(test_x)\n",
    "gaminet_stat = np.hstack([np.round(get_metric(train_y, pred_train),5),\n",
    "                      np.round(get_metric(test_y, pred_test),5)])\n",
    "print(gaminet_stat)"
   ]
  },
  {
   "cell_type": "code",
   "execution_count": null,
   "metadata": {
    "ExecuteTime": {
     "end_time": "2021-10-14T10:51:42.921459Z",
     "start_time": "2021-10-14T10:51:39.422Z"
    }
   },
   "outputs": [],
   "source": [
    "gaminet_stat = np.hstack([np.round(np.mean(train_y == (pred_train > 0.5)),5),\n",
    "                          np.round(np.mean(test_y == (pred_test > 0.5)),5)])\n",
    "print(gaminet_stat)"
   ]
  },
  {
   "cell_type": "markdown",
   "metadata": {},
   "source": [
    "Global Interpretation"
   ]
  },
  {
   "cell_type": "code",
   "execution_count": null,
   "metadata": {
    "ExecuteTime": {
     "end_time": "2021-10-14T10:51:42.922490Z",
     "start_time": "2021-10-14T10:51:39.429Z"
    }
   },
   "outputs": [],
   "source": [
    "data_dict_global = model_fico.global_explain(save_dict=True, folder=folder, name=\"fico_global\")\n",
    "global_visualize_density(data_dict_global, folder=folder, name=\"fico_global\",  #11, 13, 19, 20\n",
    "                         main_effect_num=16, interaction_num=4, cols_per_row=4, save_png=True, save_eps=True)"
   ]
  },
  {
   "cell_type": "markdown",
   "metadata": {},
   "source": [
    "Feature Importance"
   ]
  },
  {
   "cell_type": "code",
   "execution_count": null,
   "metadata": {
    "ExecuteTime": {
     "end_time": "2021-10-14T10:51:42.923387Z",
     "start_time": "2021-10-14T10:51:39.433Z"
    }
   },
   "outputs": [],
   "source": [
    "feature_importance_visualize(data_dict_global)"
   ]
  },
  {
   "cell_type": "markdown",
   "metadata": {},
   "source": [
    "Interpret the prediction of a test sample"
   ]
  },
  {
   "cell_type": "code",
   "execution_count": null,
   "metadata": {
    "ExecuteTime": {
     "end_time": "2021-10-14T10:51:42.924550Z",
     "start_time": "2021-10-14T10:51:39.436Z"
    }
   },
   "outputs": [],
   "source": [
    "data_dict_local = model_fico.local_explain(test_x[[0]], test_y[[0]], save_dict=False)\n",
    "local_visualize(data_dict_local[0], save_png=False)"
   ]
  },
  {
   "cell_type": "code",
   "execution_count": null,
   "metadata": {},
   "outputs": [],
   "source": []
  }
 ],
 "metadata": {
  "colab": {
   "collapsed_sections": [],
   "name": "FicoHeloc.ipynb",
   "provenance": [
    {
     "file_id": "1kxmAukKbw2t6BLF4ZZ6RH2uZmGY170MK",
     "timestamp": 1598498903467
    }
   ]
  },
  "kernelspec": {
   "display_name": "py37",
   "language": "python",
   "name": "py37"
  },
  "language_info": {
   "codemirror_mode": {
    "name": "ipython",
    "version": 3
   },
   "file_extension": ".py",
   "mimetype": "text/x-python",
   "name": "python",
   "nbconvert_exporter": "python",
   "pygments_lexer": "ipython3",
   "version": "3.7.7"
  },
  "latex_envs": {
   "LaTeX_envs_menu_present": true,
   "autoclose": false,
   "autocomplete": true,
   "bibliofile": "biblio.bib",
   "cite_by": "apalike",
   "current_citInitial": 1,
   "eqLabelWithNumbers": true,
   "eqNumInitial": 1,
   "hotkeys": {
    "equation": "Ctrl-E",
    "itemize": "Ctrl-I"
   },
   "labels_anchors": false,
   "latex_user_defs": false,
   "report_style_numbering": false,
   "user_envs_cfg": false
  },
  "varInspector": {
   "cols": {
    "lenName": 16,
    "lenType": 16,
    "lenVar": 40
   },
   "kernels_config": {
    "python": {
     "delete_cmd_postfix": "",
     "delete_cmd_prefix": "del ",
     "library": "var_list.py",
     "varRefreshCmd": "print(var_dic_list())"
    },
    "r": {
     "delete_cmd_postfix": ") ",
     "delete_cmd_prefix": "rm(",
     "library": "var_list.r",
     "varRefreshCmd": "cat(var_dic_list()) "
    }
   },
   "types_to_exclude": [
    "module",
    "function",
    "builtin_function_or_method",
    "instance",
    "_Feature"
   ],
   "window_display": false
  }
 },
 "nbformat": 4,
 "nbformat_minor": 1
}
